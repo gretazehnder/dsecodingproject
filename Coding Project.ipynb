{
 "cells": [
  {
   "cell_type": "markdown",
   "metadata": {},
   "source": [
    "# DSE CODING PROJECT"
   ]
  },
  {
   "cell_type": "markdown",
   "metadata": {},
   "source": [
    "SECOND FILE (main)"
   ]
  },
  {
   "cell_type": "markdown",
   "metadata": {},
   "source": [
    "Importing libraries"
   ]
  },
  {
   "cell_type": "code",
   "execution_count": 45,
   "metadata": {},
   "outputs": [],
   "source": [
    "import geopandas as gpd \n",
    "import streamlit as st\n",
    "import matplotlib.pyplot as plt\n",
    "import import_ipynb\n",
    "import numpy as np\n",
    "from data_loading import load_data  # This is the function defined in the first file\n"
   ]
  },
  {
   "cell_type": "markdown",
   "metadata": {},
   "source": [
    "Loading data"
   ]
  },
  {
   "cell_type": "code",
   "execution_count": 46,
   "metadata": {},
   "outputs": [],
   "source": [
    "data = load_data(r\"C:\\Users\\greta\\OneDrive\\Desktop\\GlobalLandTemperaturesByMajorCity.csv\")"
   ]
  },
  {
   "cell_type": "markdown",
   "metadata": {},
   "source": [
    "Calculating temperature range for each city"
   ]
  },
  {
   "cell_type": "code",
   "execution_count": 47,
   "metadata": {},
   "outputs": [],
   "source": [
    "temp_ranges = data.groupby('City')['AverageTemperature'].apply(lambda x: np.ptp(x)) # calculating the range of values in an array (finding the difference between the maximum and minimum values)\n",
    "high_variance_cities = temp_ranges[temp_ranges > 15].index  #  filters out cities where the temperature range is above 15°C"
   ]
  },
  {
   "cell_type": "markdown",
   "metadata": {},
   "source": [
    "Setting app title and instructions"
   ]
  },
  {
   "cell_type": "code",
   "execution_count": 48,
   "metadata": {},
   "outputs": [
    {
     "name": "stderr",
     "output_type": "stream",
     "text": [
      "2024-11-14 19:05:54.283 Thread 'MainThread': missing ScriptRunContext! This warning can be ignored when running in bare mode.\n",
      "2024-11-14 19:05:54.286 Thread 'MainThread': missing ScriptRunContext! This warning can be ignored when running in bare mode.\n",
      "2024-11-14 19:05:54.288 Thread 'MainThread': missing ScriptRunContext! This warning can be ignored when running in bare mode.\n",
      "2024-11-14 19:05:54.289 Thread 'MainThread': missing ScriptRunContext! This warning can be ignored when running in bare mode.\n",
      "2024-11-14 19:05:54.290 Thread 'MainThread': missing ScriptRunContext! This warning can be ignored when running in bare mode.\n",
      "2024-11-14 19:05:54.290 Thread 'MainThread': missing ScriptRunContext! This warning can be ignored when running in bare mode.\n"
     ]
    }
   ],
   "source": [
    "st.title(\"Global Temperature Change Visualization Over Time\")\n",
    "st.write(\"Explore the change in temperatures over time and identify cities with large temperature ranges.\")"
   ]
  },
  {
   "cell_type": "markdown",
   "metadata": {},
   "source": [
    "Adding an year slider"
   ]
  },
  {
   "cell_type": "code",
   "execution_count": 49,
   "metadata": {},
   "outputs": [
    {
     "name": "stderr",
     "output_type": "stream",
     "text": [
      "2024-11-14 19:05:54.303 Thread 'MainThread': missing ScriptRunContext! This warning can be ignored when running in bare mode.\n",
      "2024-11-14 19:05:54.304 Thread 'MainThread': missing ScriptRunContext! This warning can be ignored when running in bare mode.\n",
      "2024-11-14 19:05:54.305 Thread 'MainThread': missing ScriptRunContext! This warning can be ignored when running in bare mode.\n",
      "2024-11-14 19:05:54.306 Thread 'MainThread': missing ScriptRunContext! This warning can be ignored when running in bare mode.\n",
      "2024-11-14 19:05:54.308 Thread 'MainThread': missing ScriptRunContext! This warning can be ignored when running in bare mode.\n",
      "2024-11-14 19:05:54.308 Thread 'MainThread': missing ScriptRunContext! This warning can be ignored when running in bare mode.\n"
     ]
    }
   ],
   "source": [
    "year = st.slider(\"Select Year\", int(data['Year'].min()), int(data['Year'].max()), step=1)"
   ]
  },
  {
   "cell_type": "markdown",
   "metadata": {},
   "source": [
    "Filtering data for the selected year"
   ]
  },
  {
   "cell_type": "code",
   "execution_count": 50,
   "metadata": {},
   "outputs": [],
   "source": [
    "year_data = data[data['Year'] == year]"
   ]
  },
  {
   "cell_type": "markdown",
   "metadata": {},
   "source": [
    "Loading baseline city data (unique cities with coordinates) for consistent plotting"
   ]
  },
  {
   "cell_type": "code",
   "execution_count": 51,
   "metadata": {},
   "outputs": [],
   "source": [
    "baseline_cities = data[['City', 'Latitude', 'Longitude']].drop_duplicates()"
   ]
  },
  {
   "cell_type": "markdown",
   "metadata": {},
   "source": [
    "Converting data to a GeoDataFrame"
   ]
  },
  {
   "cell_type": "code",
   "execution_count": 52,
   "metadata": {},
   "outputs": [],
   "source": [
    "gdf_all_cities = gpd.GeoDataFrame(baseline_cities, geometry=gpd.points_from_xy(baseline_cities.Longitude, baseline_cities.Latitude))\n",
    "gdf_year_data = gpd.GeoDataFrame(year_data, geometry=gpd.points_from_xy(year_data.Longitude, year_data.Latitude))\n",
    "# creating points on a map for each city using longitude and latitude data.\n"
   ]
  },
  {
   "cell_type": "markdown",
   "metadata": {},
   "source": [
    "Loading a World map shapefile"
   ]
  },
  {
   "cell_type": "code",
   "execution_count": 53,
   "metadata": {},
   "outputs": [],
   "source": [
    "world = gpd.read_file(r\"C:\\Users\\greta\\OneDrive\\Desktop\\nat.earth\\ne_110m_admin_0_countries.shp\")\n",
    "# a shapefile is a file format for geographic data"
   ]
  },
  {
   "cell_type": "markdown",
   "metadata": {},
   "source": [
    "Plotting the World map"
   ]
  },
  {
   "cell_type": "code",
   "execution_count": 54,
   "metadata": {},
   "outputs": [
    {
     "data": {
      "text/plain": [
       "<Axes: >"
      ]
     },
     "execution_count": 54,
     "metadata": {},
     "output_type": "execute_result"
    }
   ],
   "source": [
    "fig, ax = plt.subplots(figsize=(12, 8)) #creating a blank figure (fig) with a specified size and an axis (ax) to draw on.\n",
    "world.plot(ax=ax, color='lightgrey', edgecolor='darkgrey')  # World map with borders"
   ]
  },
  {
   "cell_type": "markdown",
   "metadata": {},
   "source": [
    "Plotting all of the cities in a light color "
   ]
  },
  {
   "cell_type": "code",
   "execution_count": 55,
   "metadata": {},
   "outputs": [
    {
     "data": {
      "text/plain": [
       "<Axes: >"
      ]
     },
     "execution_count": 55,
     "metadata": {},
     "output_type": "execute_result"
    }
   ],
   "source": [
    "gdf_all_cities.plot(ax=ax, color='lightblue', markersize=20, alpha=0.3, edgecolor='black', label=\"All Cities\")"
   ]
  },
  {
   "cell_type": "markdown",
   "metadata": {},
   "source": [
    "Plotting cities with temperature data for the selected year in a distinct color (blue)"
   ]
  },
  {
   "cell_type": "code",
   "execution_count": 56,
   "metadata": {},
   "outputs": [
    {
     "data": {
      "text/plain": [
       "<Axes: >"
      ]
     },
     "execution_count": 56,
     "metadata": {},
     "output_type": "execute_result"
    }
   ],
   "source": [
    "gdf_year_data.plot(ax=ax, color='blue', markersize=20, alpha=0.5, edgecolor='black', label=\"Cities with Temperature Data\") #markersize=20 controls the size of the markers, while alpha=0.5 makes them slightly transparent."
   ]
  },
  {
   "cell_type": "markdown",
   "metadata": {},
   "source": [
    "Highlighting high variance cities in red with larger markers"
   ]
  },
  {
   "cell_type": "code",
   "execution_count": 57,
   "metadata": {},
   "outputs": [
    {
     "data": {
      "text/plain": [
       "<Axes: >"
      ]
     },
     "execution_count": 57,
     "metadata": {},
     "output_type": "execute_result"
    }
   ],
   "source": [
    "high_variance_data = gdf_year_data[gdf_year_data['City'].isin(high_variance_cities)]\n",
    "high_variance_data.plot(ax=ax, color='red', markersize=50, alpha=0.7, edgecolor='black', label=\"High Temperature Range Cities\")"
   ]
  },
  {
   "cell_type": "markdown",
   "metadata": {},
   "source": [
    "Adding titles"
   ]
  },
  {
   "cell_type": "code",
   "execution_count": 58,
   "metadata": {},
   "outputs": [
    {
     "data": {
      "text/plain": [
       "Text(105.59722222222221, 0.5, 'Latitude')"
      ]
     },
     "execution_count": 58,
     "metadata": {},
     "output_type": "execute_result"
    }
   ],
   "source": [
    "plt.title(f\"Temperature Distribution in Major Cities - {year}\", fontsize=18, fontweight='bold', color='darkblue')\n",
    "plt.xlabel(\"Longitude\", fontsize=14)\n",
    "plt.ylabel(\"Latitude\", fontsize=14)\n"
   ]
  },
  {
   "cell_type": "markdown",
   "metadata": {},
   "source": [
    "Adding a legend and displaying the map"
   ]
  },
  {
   "cell_type": "code",
   "execution_count": 59,
   "metadata": {},
   "outputs": [
    {
     "name": "stderr",
     "output_type": "stream",
     "text": [
      "2024-11-14 19:05:54.864 Thread 'MainThread': missing ScriptRunContext! This warning can be ignored when running in bare mode.\n",
      "2024-11-14 19:05:55.287 Thread 'MainThread': missing ScriptRunContext! This warning can be ignored when running in bare mode.\n",
      "2024-11-14 19:05:55.288 Thread 'MainThread': missing ScriptRunContext! This warning can be ignored when running in bare mode.\n"
     ]
    },
    {
     "data": {
      "text/plain": [
       "DeltaGenerator()"
      ]
     },
     "execution_count": 59,
     "metadata": {},
     "output_type": "execute_result"
    }
   ],
   "source": [
    "plt.legend()\n",
    "st.pyplot(fig)"
   ]
  },
  {
   "cell_type": "markdown",
   "metadata": {},
   "source": [
    "Selecting a city to display time-series"
   ]
  },
  {
   "cell_type": "code",
   "execution_count": 60,
   "metadata": {},
   "outputs": [
    {
     "name": "stderr",
     "output_type": "stream",
     "text": [
      "2024-11-14 19:05:55.315 Thread 'MainThread': missing ScriptRunContext! This warning can be ignored when running in bare mode.\n",
      "2024-11-14 19:05:55.317 Thread 'MainThread': missing ScriptRunContext! This warning can be ignored when running in bare mode.\n",
      "2024-11-14 19:05:55.320 Thread 'MainThread': missing ScriptRunContext! This warning can be ignored when running in bare mode.\n",
      "2024-11-14 19:05:55.320 Thread 'MainThread': missing ScriptRunContext! This warning can be ignored when running in bare mode.\n",
      "2024-11-14 19:05:55.321 Thread 'MainThread': missing ScriptRunContext! This warning can be ignored when running in bare mode.\n",
      "2024-11-14 19:05:55.322 Thread 'MainThread': missing ScriptRunContext! This warning can be ignored when running in bare mode.\n",
      "2024-11-14 19:05:55.352 Thread 'MainThread': missing ScriptRunContext! This warning can be ignored when running in bare mode.\n",
      "2024-11-14 19:05:55.699 Thread 'MainThread': missing ScriptRunContext! This warning can be ignored when running in bare mode.\n",
      "2024-11-14 19:05:55.700 Thread 'MainThread': missing ScriptRunContext! This warning can be ignored when running in bare mode.\n"
     ]
    }
   ],
   "source": [
    "selected_city = st.selectbox(\"Select a city to view historical temperature data:\", data['City'].unique())\n",
    "\n",
    "if selected_city:\n",
    "    city_data = data[data['City'] == selected_city] #If the city is selected, the code filters data to include only rows for the chosen city.\n",
    "\n",
    "    if not city_data.empty:\n",
    "        # Grouping by year and calculating the average temperature \n",
    "        yearly_data = city_data.groupby('Year', as_index=False)['AverageTemperature'].mean()\n",
    "\n",
    "        fig, ax = plt.subplots(figsize=(10, 6))\n",
    "\n",
    "        # Plotting\n",
    "        ax.plot(yearly_data['Year'], yearly_data['AverageTemperature'], \n",
    "                color='darkred', marker='o', linestyle='-', linewidth=1, markersize=3)\n",
    "        ax.set_title(f\"Average Temperature Change Over Time in {selected_city}\", \n",
    "                     fontsize=16, fontweight='bold', color='darkblue')\n",
    "        ax.set_xlabel(\"Year\", fontsize=14, color='gray')\n",
    "        ax.set_ylabel(\"Average Temperature (°C)\", fontsize=14, color='gray')\n",
    "\n",
    "        # Adding a grid \n",
    "        ax.grid(True, linestyle='--', color='gray', alpha=0.7)\n",
    "    \n",
    "        # Showing the plot in Streamlit\n",
    "    \n",
    "        st.pyplot(fig)\n",
    "    else:\n",
    "        st.write(f\"No data available for {selected_city}\")\n"
   ]
  },
  {
   "cell_type": "markdown",
   "metadata": {},
   "source": [
    "SECOND PART OF THE PROJECT"
   ]
  },
  {
   "cell_type": "markdown",
   "metadata": {},
   "source": [
    "Setting starting and destination coordinates "
   ]
  },
  {
   "cell_type": "code",
   "execution_count": 61,
   "metadata": {},
   "outputs": [],
   "source": [
    "start_city = \"Beijing\"\n",
    "end_city = \"Los Angeles\"\n",
    "start_coords = (39.38, 116.53)  # Beijing\n",
    "end_coords = (34.56, -118.70)   # Los Angeles"
   ]
  },
  {
   "cell_type": "markdown",
   "metadata": {},
   "source": [
    "Creating a filtered copy of the data for the selected period"
   ]
  },
  {
   "cell_type": "code",
   "execution_count": 62,
   "metadata": {},
   "outputs": [],
   "source": [
    "route_data = year_data.copy() #route_data will be modified throughout the code, so we are creating a copy to avoid changing year_data directly."
   ]
  },
  {
   "cell_type": "markdown",
   "metadata": {},
   "source": [
    "Defining the function to get the three closest cities to a given location"
   ]
  },
  {
   "cell_type": "code",
   "execution_count": 63,
   "metadata": {},
   "outputs": [],
   "source": [
    "def get_nearest_cities(data, current_coords, num_cities=3):\n",
    "    # Calculating euclidean distance \n",
    "    lat_diffs = data['Latitude'] - current_coords[0]\n",
    "    lon_diffs = data['Longitude'] - current_coords[1]\n",
    "    data['Distance'] = np.sqrt(lat_diffs**2 + lon_diffs**2)\n",
    "    nearby_cities = data.nsmallest(num_cities, 'Distance')\n",
    "    return nearby_cities.sort_values(by='AverageTemperature', ascending=False)  # Sort by temperature"
   ]
  },
  {
   "cell_type": "markdown",
   "metadata": {},
   "source": [
    "Iteratively building the route"
   ]
  },
  {
   "cell_type": "code",
   "execution_count": 64,
   "metadata": {},
   "outputs": [],
   "source": [
    "route = []\n",
    "current_coords = start_coords "
   ]
  },
  {
   "cell_type": "markdown",
   "metadata": {},
   "source": [
    "Creating a loop to build the route"
   ]
  },
  {
   "cell_type": "code",
   "execution_count": 65,
   "metadata": {},
   "outputs": [
    {
     "name": "stderr",
     "output_type": "stream",
     "text": [
      "2024-11-14 19:05:55.790 Thread 'MainThread': missing ScriptRunContext! This warning can be ignored when running in bare mode.\n",
      "2024-11-14 19:05:55.791 Thread 'MainThread': missing ScriptRunContext! This warning can be ignored when running in bare mode.\n",
      "2024-11-14 19:05:55.792 Thread 'MainThread': missing ScriptRunContext! This warning can be ignored when running in bare mode.\n",
      "2024-11-14 19:05:55.793 Thread 'MainThread': missing ScriptRunContext! This warning can be ignored when running in bare mode.\n",
      "2024-11-14 19:05:55.793 Thread 'MainThread': missing ScriptRunContext! This warning can be ignored when running in bare mode.\n",
      "2024-11-14 19:05:55.794 Thread 'MainThread': missing ScriptRunContext! This warning can be ignored when running in bare mode.\n",
      "2024-11-14 19:05:55.794 Thread 'MainThread': missing ScriptRunContext! This warning can be ignored when running in bare mode.\n",
      "2024-11-14 19:05:55.795 Thread 'MainThread': missing ScriptRunContext! This warning can be ignored when running in bare mode.\n"
     ]
    }
   ],
   "source": [
    "\n",
    "\n",
    "while np.sqrt((current_coords[0] - end_coords[0])**2 + (current_coords[1] - end_coords[1])**2) > 1: #checking if the > 1 unit away: if it is, the loop continues; otherwise, the traveler is considered \"close enough\" to Los Angeles, and the loop stops.\n",
    "    nearby_cities = get_nearest_cities(route_data, current_coords) #Finding the three closest cities to current_coords and selecting the warmest one\n",
    "    if nearby_cities.empty:\n",
    "        st.write(\"No more cities within reach.\")\n",
    "        break\n",
    "    next_city = nearby_cities.iloc[0]  # Warmest among the closest (choosing the first city in nearby_cities)\n",
    "    route.append({'City': next_city['City'], 'Latitude': next_city['Latitude'], 'Longitude': next_city['Longitude']}) #Adding next_city to route with its name, latitude, and longitude\n",
    "    current_coords = (next_city['Latitude'], next_city['Longitude']) # Updating current_coords to the location of next_city, moving us forward in the route.\n",
    "    route_data = route_data[route_data['City'] != next_city['City']]  # Removing next_city from route_data to avoid revisiting it.\n",
    "\n",
    "st.write(\"Route:\", \" → \".join([city['City'] for city in route]))\n"
   ]
  },
  {
   "cell_type": "markdown",
   "metadata": {},
   "source": [
    "Visualizing the route"
   ]
  },
  {
   "cell_type": "code",
   "execution_count": 66,
   "metadata": {},
   "outputs": [
    {
     "name": "stderr",
     "output_type": "stream",
     "text": [
      "2024-11-14 19:05:56.178 Thread 'MainThread': missing ScriptRunContext! This warning can be ignored when running in bare mode.\n",
      "2024-11-14 19:05:56.522 Thread 'MainThread': missing ScriptRunContext! This warning can be ignored when running in bare mode.\n",
      "2024-11-14 19:05:56.523 Thread 'MainThread': missing ScriptRunContext! This warning can be ignored when running in bare mode.\n"
     ]
    }
   ],
   "source": [
    "if route:\n",
    "    # Reusing the world shapefile from earlier\n",
    "    fig, ax = plt.subplots(figsize=(12, 8))\n",
    "    world.plot(ax=ax, color='lightgrey', edgecolor='darkgrey')\n",
    "    \n",
    "    # Extracting route coordinates: lats and longs lists store the route’s latitudes and longitudes\n",
    "    lats = [start_coords[0]] + [city['Latitude'] for city in route] + [end_coords[0]]\n",
    "    longs = [start_coords[1]] + [city['Longitude'] for city in route] + [end_coords[1]]\n",
    "    \n",
    "    # Plotting the route as lines connecting each city\n",
    "    ax.plot(longs, lats, color='red', linewidth=2, label=\"Route Line\")\n",
    "    \n",
    "    # Plotting each city as a point on the route\n",
    "    ax.plot(longs, lats, 'bo', markersize=5)  # 'bo' makes blue points\n",
    "\n",
    "    # Adding title and legend\n",
    "    plt.title(\"Travel Route Visualization\", fontsize=18, fontweight='bold')\n",
    "    plt.legend()\n",
    "    \n",
    "    # Displaying in Streamlit\n",
    "    st.pyplot(fig)"
   ]
  }
 ],
 "metadata": {
  "kernelspec": {
   "display_name": "Python 3",
   "language": "python",
   "name": "python3"
  },
  "language_info": {
   "codemirror_mode": {
    "name": "ipython",
    "version": 3
   },
   "file_extension": ".py",
   "mimetype": "text/x-python",
   "name": "python",
   "nbconvert_exporter": "python",
   "pygments_lexer": "ipython3",
   "version": "3.12.2"
  }
 },
 "nbformat": 4,
 "nbformat_minor": 2
}
