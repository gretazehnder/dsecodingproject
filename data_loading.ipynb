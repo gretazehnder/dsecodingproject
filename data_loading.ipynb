{
 "cells": [
  {
   "cell_type": "markdown",
   "metadata": {},
   "source": [
    "# DSE CODING PROJECT"
   ]
  },
  {
   "cell_type": "markdown",
   "metadata": {},
   "source": [
    "FIRST FILE"
   ]
  },
  {
   "cell_type": "markdown",
   "metadata": {},
   "source": [
    "Importing libraries"
   ]
  },
  {
   "cell_type": "code",
   "execution_count": 5,
   "metadata": {},
   "outputs": [],
   "source": [
    "import pandas as pd"
   ]
  },
  {
   "cell_type": "markdown",
   "metadata": {},
   "source": [
    "Defining the convert_to_float Function"
   ]
  },
  {
   "cell_type": "code",
   "execution_count": null,
   "metadata": {},
   "outputs": [],
   "source": [
    "# This function converts coordinates like '13.14E' or '13.14S' to float values.'E' and 'N' are positive, 'W' and 'S' are negative.\n",
    "    \n",
    "def convert_to_float(coord):\n",
    "    if 'E' in coord or 'N' in coord:\n",
    "        return float(coord[:-1]) #removing the last character of the string, leaving just the number part and converting this string into a float (a decimal number).\n",
    "    else:\n",
    "        'W' in coord or 'S' in coord\n",
    "        return -float(coord[:-1]) #same as before, but also adding a - sign in front to make it negative."
   ]
  },
  {
   "cell_type": "markdown",
   "metadata": {},
   "source": [
    "Defining the load_data Function"
   ]
  },
  {
   "cell_type": "code",
   "execution_count": null,
   "metadata": {},
   "outputs": [],
   "source": [
    "def load_data(filepath):\n",
    "    data = pd.read_csv(filepath)\n",
    "    \n",
    "    # Extracting 'Year' from date\n",
    "    data['Year'] = pd.to_datetime(data['dt'], errors='coerce').dt.year #converting the values in the 'dt' column to datetime format, and creates a new column in the DataFrame called Year that stores these extracted year values.\n",
    "    # errors='coerce: any value that cannot be converted to the target format is replaced with NaN (Not a Number).\n",
    "    \n",
    "    # Converting 'AverageTemperature' to numeric\n",
    "    data['AverageTemperature'] = pd.to_numeric(data['AverageTemperature'], errors='coerce')\n",
    "    \n",
    "    # Dropping rows where 'AverageTemperature' or 'Year' is NaN\n",
    "    data.dropna(subset=['AverageTemperature', 'Year'], inplace=True) #inplace=True: The operation is performed directly on the original object, and no new object is created.\n",
    "    \n",
    "    # Applying the conversion function to latitude and longitude\n",
    "    data['Latitude'] = data['Latitude'].apply(convert_to_float)\n",
    "    data['Longitude'] = data['Longitude'].apply(convert_to_float)\n",
    "    \n",
    "    return data"
   ]
  },
  {
   "cell_type": "markdown",
   "metadata": {},
   "source": [
    " Defining the filter_data_by_year Function"
   ]
  },
  {
   "cell_type": "code",
   "execution_count": 8,
   "metadata": {},
   "outputs": [],
   "source": [
    "# This function filters the data so that only rows for a specific year are included.\n",
    "def filter_data_by_year(data, year):\n",
    "    return data[data['Year'] == year] #returns only the rows in data where the 'Year' column equals the specified year"
   ]
  }
 ],
 "metadata": {
  "kernelspec": {
   "display_name": "Python 3",
   "language": "python",
   "name": "python3"
  },
  "language_info": {
   "codemirror_mode": {
    "name": "ipython",
    "version": 3
   },
   "file_extension": ".py",
   "mimetype": "text/x-python",
   "name": "python",
   "nbconvert_exporter": "python",
   "pygments_lexer": "ipython3",
   "version": "3.12.2"
  }
 },
 "nbformat": 4,
 "nbformat_minor": 2
}
