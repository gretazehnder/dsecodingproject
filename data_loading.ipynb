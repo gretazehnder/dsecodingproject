{
 "cells": [
  {
   "cell_type": "markdown",
   "metadata": {},
   "source": [
    "FIRST FILE"
   ]
  },
  {
   "cell_type": "markdown",
   "metadata": {},
   "source": [
    "Importing the Required Library"
   ]
  },
  {
   "cell_type": "code",
   "execution_count": 1,
   "metadata": {},
   "outputs": [],
   "source": [
    "import pandas as pd"
   ]
  },
  {
   "cell_type": "markdown",
   "metadata": {},
   "source": [
    "Defining the convert_to_float Function"
   ]
  },
  {
   "cell_type": "code",
   "execution_count": 2,
   "metadata": {},
   "outputs": [],
   "source": [
    "def convert_to_float(coord):#Converts coordinates like '13.14E' or '13.14S' to float values.'E' and 'N' are positive, 'W' and 'S' are negative.\n",
    "    \n",
    "    if 'E' in coord or 'N' in coord:\n",
    "        return float(coord[:-1]) #removing the last character of the string, leaving just the number part and converting this string into a float (a decimal number).\n",
    "    elif 'W' in coord or 'S' in coord:\n",
    "        return -float(coord[:-1]) #same as before, but also adds a - sign in front to make it negative.\n",
    "    else:\n",
    "        raise ValueError(f\"Unexpected coordinate format: {coord}\") #If the coordinate doesn’t contain \"E\", \"N\", \"W\", or \"S\", it raises an error, stopping the program and showing a message to indicate there was an issue with the format."
   ]
  },
  {
   "cell_type": "markdown",
   "metadata": {},
   "source": [
    "Defining the load_data Function"
   ]
  },
  {
   "cell_type": "code",
   "execution_count": 3,
   "metadata": {},
   "outputs": [],
   "source": [
    "def load_data(filepath):\n",
    "    data = pd.read_csv(filepath)\n",
    "    \n",
    "    # Ensure 'Year' is extracted from date\n",
    "    data['Year'] = pd.to_datetime(data['dt'], errors='coerce').dt.year #converts the values in the 'dt' column to datetime format, and creates a new column in the DataFrame called Year that stores these extracted year values.\n",
    "    \n",
    "    # Convert 'AverageTemperature' to numeric, handling errors by setting non-numeric values to NaN\n",
    "    data['AverageTemperature'] = pd.to_numeric(data['AverageTemperature'], errors='coerce')\n",
    "    \n",
    "    # Drop rows where 'AverageTemperature' or 'Year' is NaN\n",
    "    data.dropna(subset=['AverageTemperature', 'Year'], inplace=True)\n",
    "    \n",
    "    # Apply the conversion function to latitude and longitude\n",
    "    data['Latitude'] = data['Latitude'].apply(convert_to_float)\n",
    "    data['Longitude'] = data['Longitude'].apply(convert_to_float)\n",
    "    \n",
    "    return data"
   ]
  },
  {
   "cell_type": "markdown",
   "metadata": {},
   "source": [
    " Defining the filter_data_by_year Function"
   ]
  },
  {
   "cell_type": "code",
   "execution_count": 4,
   "metadata": {},
   "outputs": [],
   "source": [
    "#This function filters the data so that only rows for a specific year are included.\n",
    "def filter_data_by_year(data, year):\n",
    "    return data[data['Year'] == year] #returns only the rows in data where the 'Year' column equals the specified year"
   ]
  }
 ],
 "metadata": {
  "kernelspec": {
   "display_name": "Python 3",
   "language": "python",
   "name": "python3"
  },
  "language_info": {
   "codemirror_mode": {
    "name": "ipython",
    "version": 3
   },
   "file_extension": ".py",
   "mimetype": "text/x-python",
   "name": "python",
   "nbconvert_exporter": "python",
   "pygments_lexer": "ipython3",
   "version": "3.12.2"
  }
 },
 "nbformat": 4,
 "nbformat_minor": 2
}
